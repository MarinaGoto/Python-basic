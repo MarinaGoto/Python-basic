{
 "cells": [
  {
   "cell_type": "code",
   "execution_count": 1,
   "metadata": {},
   "outputs": [],
   "source": [
    "n=10\n",
    "k=20"
   ]
  },
  {
   "cell_type": "code",
   "execution_count": 2,
   "metadata": {},
   "outputs": [
    {
     "data": {
      "text/plain": [
       "1901423968"
      ]
     },
     "execution_count": 2,
     "metadata": {},
     "output_type": "execute_result"
    }
   ],
   "source": [
    "id(n)"
   ]
  },
  {
   "cell_type": "code",
   "execution_count": 3,
   "metadata": {},
   "outputs": [
    {
     "data": {
      "text/plain": [
       "1901424288"
      ]
     },
     "execution_count": 3,
     "metadata": {},
     "output_type": "execute_result"
    }
   ],
   "source": [
    "id(k)"
   ]
  },
  {
   "cell_type": "code",
   "execution_count": 4,
   "metadata": {},
   "outputs": [],
   "source": [
    "n=20\n",
    "k=20"
   ]
  },
  {
   "cell_type": "code",
   "execution_count": 5,
   "metadata": {},
   "outputs": [
    {
     "data": {
      "text/plain": [
       "1901424288"
      ]
     },
     "execution_count": 5,
     "metadata": {},
     "output_type": "execute_result"
    }
   ],
   "source": [
    "id(n)"
   ]
  },
  {
   "cell_type": "code",
   "execution_count": 6,
   "metadata": {},
   "outputs": [
    {
     "data": {
      "text/plain": [
       "1901424288"
      ]
     },
     "execution_count": 6,
     "metadata": {},
     "output_type": "execute_result"
    }
   ],
   "source": [
    "id(k)"
   ]
  },
  {
   "cell_type": "code",
   "execution_count": 1,
   "metadata": {},
   "outputs": [
    {
     "data": {
      "text/plain": [
       "True"
      ]
     },
     "execution_count": 1,
     "metadata": {},
     "output_type": "execute_result"
    }
   ],
   "source": [
    "import copy \n",
    "\n",
    "list1 = [10, 20, 30, 40]\n",
    "list2 = list1\n",
    "id(list1) == id(list2)"
   ]
  },
  {
   "cell_type": "code",
   "execution_count": 2,
   "metadata": {},
   "outputs": [
    {
     "data": {
      "text/plain": [
       "[60, 20, 30, 40]"
      ]
     },
     "execution_count": 2,
     "metadata": {},
     "output_type": "execute_result"
    }
   ],
   "source": [
    "list1[0] = 60 \n",
    "list1"
   ]
  },
  {
   "cell_type": "code",
   "execution_count": 3,
   "metadata": {},
   "outputs": [
    {
     "data": {
      "text/plain": [
       "[60, 20, 30, 40]"
      ]
     },
     "execution_count": 3,
     "metadata": {},
     "output_type": "execute_result"
    }
   ],
   "source": [
    "list2"
   ]
  },
  {
   "cell_type": "code",
   "execution_count": 4,
   "metadata": {},
   "outputs": [
    {
     "data": {
      "text/plain": [
       "False"
      ]
     },
     "execution_count": 4,
     "metadata": {},
     "output_type": "execute_result"
    }
   ],
   "source": [
    "list1 = [10, 20 , 30, [40]]\n",
    "list2 = list(list1)\n",
    "id(list1) == id(list2)"
   ]
  },
  {
   "cell_type": "code",
   "execution_count": 5,
   "metadata": {},
   "outputs": [
    {
     "data": {
      "text/plain": [
       "[60, 20, 30, [90]]"
      ]
     },
     "execution_count": 5,
     "metadata": {},
     "output_type": "execute_result"
    }
   ],
   "source": [
    "list1[0]= 60\n",
    "list1[3][0]=90\n",
    "list1"
   ]
  },
  {
   "cell_type": "code",
   "execution_count": 6,
   "metadata": {},
   "outputs": [
    {
     "data": {
      "text/plain": [
       "[10, 20, 30, [90]]"
      ]
     },
     "execution_count": 6,
     "metadata": {},
     "output_type": "execute_result"
    }
   ],
   "source": [
    "list2\n"
   ]
  },
  {
   "cell_type": "code",
   "execution_count": 9,
   "metadata": {},
   "outputs": [
    {
     "data": {
      "text/plain": [
       "False"
      ]
     },
     "execution_count": 9,
     "metadata": {},
     "output_type": "execute_result"
    }
   ],
   "source": [
    "list1= [10, 20, 30, [40]]\n",
    "list2 = copy.deepcopy(list1)\n",
    "id(list1) ==  id(list2)"
   ]
  },
  {
   "cell_type": "code",
   "execution_count": 10,
   "metadata": {},
   "outputs": [
    {
     "data": {
      "text/plain": [
       "[10, 20, 30, [40]]"
      ]
     },
     "execution_count": 10,
     "metadata": {},
     "output_type": "execute_result"
    }
   ],
   "source": [
    "list2"
   ]
  },
  {
   "cell_type": "code",
   "execution_count": 11,
   "metadata": {},
   "outputs": [
    {
     "data": {
      "text/plain": [
       "[60, 20, 30, [90]]"
      ]
     },
     "execution_count": 11,
     "metadata": {},
     "output_type": "execute_result"
    }
   ],
   "source": [
    "list1 [0] = 60\n",
    "list1[3][0]=90\n",
    "list1"
   ]
  },
  {
   "cell_type": "code",
   "execution_count": 12,
   "metadata": {},
   "outputs": [
    {
     "data": {
      "text/plain": [
       "[10, 20, 30, [40]]"
      ]
     },
     "execution_count": 12,
     "metadata": {},
     "output_type": "execute_result"
    }
   ],
   "source": [
    "list2"
   ]
  },
  {
   "cell_type": "code",
   "execution_count": 21,
   "metadata": {},
   "outputs": [],
   "source": [
    "list1 = [10, 20, 30, (40)]\n",
    "list2 = list(list1)\n",
    "list1[3] = 90"
   ]
  },
  {
   "cell_type": "code",
   "execution_count": 15,
   "metadata": {},
   "outputs": [
    {
     "name": "stdout",
     "output_type": "stream",
     "text": [
      "True\n"
     ]
    }
   ],
   "source": [
    "print ((40)==40)"
   ]
  },
  {
   "cell_type": "code",
   "execution_count": 4,
   "metadata": {},
   "outputs": [
    {
     "name": "stdout",
     "output_type": "stream",
     "text": [
      "[10, 20, 30, 90]\n"
     ]
    }
   ],
   "source": [
    "list1 = [10, 20, 30, (40)]\n",
    "list2 = list(list1)\n",
    "list1[3] = 90\n",
    "print(list1)"
   ]
  },
  {
   "cell_type": "code",
   "execution_count": 5,
   "metadata": {},
   "outputs": [
    {
     "data": {
      "text/plain": [
       "[10, 20, 30, (100,)]"
      ]
     },
     "execution_count": 5,
     "metadata": {},
     "output_type": "execute_result"
    }
   ],
   "source": [
    "list1[3] = (100,)\n",
    "list1"
   ]
  },
  {
   "cell_type": "code",
   "execution_count": 6,
   "metadata": {},
   "outputs": [
    {
     "data": {
      "text/plain": [
       "[10, 20, 30, 40]"
      ]
     },
     "execution_count": 6,
     "metadata": {},
     "output_type": "execute_result"
    }
   ],
   "source": [
    "list2\n"
   ]
  },
  {
   "cell_type": "code",
   "execution_count": null,
   "metadata": {},
   "outputs": [],
   "source": [
    "import turtle\n",
    "\n",
    "# set window size\n",
    "turtle.setup(800, 600)\n",
    "\n",
    "# get reference to turtle window\n",
    "window = turtle.Screen()\n",
    "window.title('Absolute Positionong')\n",
    "\n",
    "#get default turtle and hide\n",
    "the_turtle = turtle.getturtle()\n",
    "the_turtle.hideturtle()\n",
    "\n",
    "\n",
    "\n",
    "#create square (absolute postioning)\n",
    "the_turtle.forward(100)\n",
    "the_turtle.left(90)\n",
    "the_turtle.forward(100)\n",
    "the_turtle.left(90)\n",
    "the_turtle.forward(100)\n",
    "the_turtle.left(90)\n",
    "the_turtle.forward(100)\n",
    "the_turtle.left(90)\n",
    "\n",
    "the_turtle.speed(2)\n",
    "\n",
    "\n",
    "turtle.exitonclick()\n"
   ]
  },
  {
   "cell_type": "code",
   "execution_count": null,
   "metadata": {},
   "outputs": [],
   "source": [
    "import turtle\n",
    "\n",
    "# set window size\n",
    "turtle.setup(800, 600)\n",
    "\n",
    "# get reference to turtle window\n",
    "window = turtle.Screen()\n",
    "window.title('Drawing an A')\n",
    "\n",
    "#get default turtle and hide\n",
    "the_turtle = turtle.getturtle()\n",
    "#the_turtle.hideturtle()\n",
    "\n",
    "#shape\n",
    "the_turtle.shape('turtle')\n",
    "the_turtle.fillcolor('black')\n",
    "\n",
    "#color\n",
    "turtle.colormode(255)\n",
    "the_turtle.pencolor(169, 71, 169)\n",
    "\n",
    "#size\n",
    "the_turtle.pensize(41)\n",
    "#resize\n",
    "the_turtle.resizemode('user')\n",
    "the_turtle.turtlesize(3, 3)\n",
    "\n",
    "#create square (absolute postioning)\n",
    "the_turtle.penup()\n",
    "the_turtle.setposition(-100, 0)\n",
    "the_turtle.pendown()\n",
    "the_turtle.setposition(0,250)\n",
    "the_turtle.setposition(100,0)\n",
    "the_turtle.penup()\n",
    "the_turtle.setposition(-64,90)\n",
    "the_turtle.pendown()\n",
    "the_turtle.setposition(64,90)\n",
    "\n",
    "\n",
    "the_turtle.speed(10)\n",
    "\n",
    "\n",
    "turtle.exitonclick()\n"
   ]
  },
  {
   "cell_type": "code",
   "execution_count": 1,
   "metadata": {},
   "outputs": [],
   "source": [
    "import turtle\n",
    "\n",
    "# set window size\n",
    "turtle.setup(800, 600)\n",
    "\n",
    "# get reference to turtle window\n",
    "window = turtle.Screen()\n",
    "window.title('My Polygon')\n",
    "the_turtle = turtle.getturtle()\n",
    "\n",
    "turtle.register_shape('mypoligon',((0,0), (100,0),(140, 40)))\n",
    "\n",
    "the_turtle.shape('mypoligon')\n",
    "the_turtle.fillcolor('purple')\n",
    "\n",
    "\n",
    "for angle in range(0, 360, 10):\n",
    "    the_turtle.setheading(angle)\n",
    "    the_turtle.stamp()\n",
    "\n",
    "turtle.register_shape('mypoligon',((10,0), (10,0),(190, 40)))\n",
    "for angle in range(0, 360, 10):\n",
    "    the_turtle.setheading(angle)\n",
    "    the_turtle.stamp()\n",
    "    \n",
    "the_turtle.speed(1)\n"
   ]
  },
  {
   "cell_type": "code",
   "execution_count": 2,
   "metadata": {},
   "outputs": [
    {
     "ename": "SyntaxError",
     "evalue": "keyword can't be an expression (<ipython-input-2-cab369f10b43>, line 11)",
     "output_type": "error",
     "traceback": [
      "\u001b[1;36m  File \u001b[1;32m\"<ipython-input-2-cab369f10b43>\"\u001b[1;36m, line \u001b[1;32m11\u001b[0m\n\u001b[1;33m    turtle.register_shape('poly' = ((0,0),(10,-5),(0,10),(-10,-5)))\u001b[0m\n\u001b[1;37m                         ^\u001b[0m\n\u001b[1;31mSyntaxError\u001b[0m\u001b[1;31m:\u001b[0m keyword can't be an expression\n"
     ]
    }
   ],
   "source": [
    "import turtle\n",
    "\n",
    "# set window size\n",
    "turtle.setup(800, 600)\n",
    "\n",
    "# get reference to turtle window\n",
    "window = turtle.Screen()\n",
    "window.title('My Polygon')\n",
    "the_turtle = turtle.getturtle()\n",
    "\n",
    "turtle.register_shape('poly' = ((0,0),(10,-5),(0,10),(-10,-5)))\n",
    "\n",
    "the_turtle.shape('compound')\n",
    "the_turtle.addcomponent(poly, \"red\", \"blue\")\n",
    "the_turtle.fillcolor('purple')\n",
    "\n",
    "\n",
    "for angle in range(0, 360, 10):\n",
    "    the_turtle.setheading(angle)\n",
    "    the_turtle.stamp()\n",
    "\n",
    "\n",
    "the_turtle.speed(1)\n"
   ]
  },
  {
   "cell_type": "code",
   "execution_count": null,
   "metadata": {},
   "outputs": [],
   "source": [
    "import turtle\n",
    "\n",
    "# set window size\n",
    "turtle.setup(800, 600)\n",
    "\n",
    "# get reference to turtle window\n",
    "window = turtle.Screen()\n",
    "window.title('Drawing an X')\n",
    "\n",
    "#get default turtle and hide\n",
    "the_turtle = turtle.getturtle()\n",
    "the_turtle.hideturtle()\n",
    "\n",
    "#shape\n",
    "the_turtle.shape('turtle')\n",
    "the_turtle.fillcolor('black')\n",
    "\n",
    "#color\n",
    "turtle.colormode(255)\n",
    "the_turtle.pencolor(169, 71, 169)\n",
    "\n",
    "#size\n",
    "the_turtle.pensize(41)\n",
    "#resize\n",
    "the_turtle.resizemode('user')\n",
    "the_turtle.turtlesize(3, 3)\n",
    "\n",
    "#create square (absolute postioning)\n",
    "the_turtle.penup()\n",
    "the_turtle.setposition(-400, 300)\n",
    "the_turtle.pendown()\n",
    "the_turtle.setposition(400, -300)\n",
    "the_turtle.penup()\n",
    "the_turtle.setposition(400,300)\n",
    "the_turtle.pendown()\n",
    "the_turtle.setposition(-400,-300)\n",
    "\n",
    "\n",
    "\n",
    "the_turtle.speed(1)\n",
    "\n",
    "\n",
    "turtle.exitonclick()"
   ]
  },
  {
   "cell_type": "code",
   "execution_count": null,
   "metadata": {},
   "outputs": [],
   "source": [
    "import turtle\n",
    "\n",
    "# set window size\n",
    "turtle.setup(800, 600)\n",
    "\n",
    "# get reference to turtle window\n",
    "window = turtle.Screen()\n",
    "window.title('Drawing tree circles')\n",
    "\n",
    "#get default turtle and hide\n",
    "the_turtle = turtle.getturtle()\n",
    "#the_turtle.hideturtle()\n",
    "\n",
    "#1 circle\n",
    "the_turtle.resizemode('user')\n",
    "the_turtle.turtlesize(3,3)\n",
    "the_turtle.shape('circle')\n",
    "the_turtle.fillcolor('blue')\n",
    "the_turtle.stamp()\n",
    "\n",
    "#2 circle\n",
    "the_turtle.resizemode('user')\n",
    "the_turtle.turtlesize(2,2)\n",
    "the_turtle.shape('circle')\n",
    "the_turtle.fillcolor('green')\n",
    "the_turtle.stamp()\n",
    "\n",
    "#3 circle\n",
    "the_turtle.resizemode('user')\n",
    "the_turtle.turtlesize(1,1)\n",
    "the_turtle.shape('circle')\n",
    "the_turtle.fillcolor('white')\n",
    "the_turtle.stamp()\n",
    "\n",
    "#size\n",
    "the_turtle.pensize(50)\n",
    "\n",
    "#speed\n",
    "the_turtle.speed(7)\n",
    "\n",
    "    \n",
    "\n",
    "#wait for user to end\n",
    "turtle.exitonclick()"
   ]
  },
  {
   "cell_type": "code",
   "execution_count": null,
   "metadata": {},
   "outputs": [],
   "source": [
    "import turtle\n",
    "\n",
    "# set window size\n",
    "turtle.setup(800, 600)\n",
    "\n",
    "# get reference to turtle window\n",
    "window = turtle.Screen()\n",
    "window.title('Drawing an turtle')\n",
    "\n",
    "#get default turtle and hide\n",
    "the_turtle = turtle.getturtle()\n",
    "#the_turtle.hideturtle()\n",
    "\n",
    "#shape\n",
    "the_turtle.shape('turtle')\n",
    "the_turtle.fillcolor('black')\n",
    "\n",
    "#color\n",
    "turtle.colormode(255)\n",
    "the_turtle.pencolor(169, 71, 169)\n",
    "\n",
    "#size\n",
    "the_turtle.pensize(41)\n",
    " \n",
    "    \n",
    "    \n",
    "#resize\n",
    "the_turtle.resizemode('user')\n",
    "the_turtle.turtlesize(3, 3)\n",
    "   for x,y in range (19,19):\n",
    "        \n",
    "\n",
    "    \n",
    "#create turtle\n",
    "the_turtle.penup()\n",
    "the_turtle.setposition(-400, -300)\n",
    "the_turtle.pendown()\n",
    "the_turtle.setposition(100,50)\n",
    "\n",
    "#########################\n",
    "  \n",
    "#resize\n",
    "the_turtle.resizemode('user')\n",
    "the_turtle.turtlesize(10, 10)\n",
    "\n",
    "    \n",
    "#create turtle\n",
    "the_turtle.penup()\n",
    "the_turtle.setposition(100, 50)\n",
    "the_turtle.pendown()\n",
    "the_turtle.setposition(300,200)\n",
    "\n",
    "\n",
    "\n",
    "\n",
    "\n",
    "the_turtle.speed(9)\n",
    "\n",
    "\n",
    "turtle.exitonclick()"
   ]
  },
  {
   "cell_type": "code",
   "execution_count": 1,
   "metadata": {},
   "outputs": [],
   "source": [
    "import turtle\n",
    "turtle.setup(800, 600)\n",
    "window = turtle.Screen()\n",
    "window.title('turtle sizes')\n",
    "the_turtle = turtle.getturtle()\n",
    "the_turtle.resizemode('user')\n",
    "the_turtle.shape('turtle')\n",
    "the_turtle.speed(9)\n",
    "\n",
    "x_position = 0\n",
    "y_position = 0\n",
    "turtle_size = 10\n",
    "while y_position < 200:\n",
    "    the_turtle.setposition(x_position, y_position)\n",
    "    the_turtle.turtlesize(turtle_size, turtle_size)\n",
    "    the_turtle.stamp()\n",
    "    x_position = x_position + 75\n",
    "    y_position = y_position + 75\n",
    "    turtle_size = turtle_size - 2\n",
    "    \n",
    "turtle.exitonclick()\n",
    "    \n",
    "    "
   ]
  },
  {
   "cell_type": "code",
   "execution_count": null,
   "metadata": {},
   "outputs": [],
   "source": []
  }
 ],
 "metadata": {
  "kernelspec": {
   "display_name": "Python 3",
   "language": "python",
   "name": "python3"
  },
  "language_info": {
   "codemirror_mode": {
    "name": "ipython",
    "version": 3
   },
   "file_extension": ".py",
   "mimetype": "text/x-python",
   "name": "python",
   "nbconvert_exporter": "python",
   "pygments_lexer": "ipython3",
   "version": "3.6.5"
  }
 },
 "nbformat": 4,
 "nbformat_minor": 2
}
